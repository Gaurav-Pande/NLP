{
 "cells": [
  {
   "cell_type": "markdown",
   "metadata": {
    "colab_type": "text",
    "id": "apMW7GKc8Lp6"
   },
   "source": [
    "\n",
    "\n",
    "# Generating Shakespeare with a Character-Level RNN\n"
   ]
  },
  {
   "cell_type": "markdown",
   "metadata": {
    "colab_type": "text",
    "id": "NVgG5yD_8Lp9"
   },
   "source": [
    "In this part, we'll turn from traditional n-gram based language models to a more advanced form of language modeling using a Recurrent Neural Network. Specifically, we'll be setting up a character-level recurrent neural network (char-rnn) for short.\n",
    "\n",
    "Andrej Karpathy, a researcher at OpenAI, has written an excellent blog post about using RNNs for language models, which you should read before beginning this assignment.  The title of his blog post is [The Unreasonable Effectiveness of Recurrent Neural Networks](http://karpathy.github.io/2015/05/21/rnn-effectiveness/).\n",
    "\n",
    "Karpathy shows how char-rnns can be used to generate texts for several fun domains:\n",
    "* Shakespeare plays\n",
    "* Essays about economics\n",
    "* LaTeX documents\n",
    "* Linux source code\n",
    "* Baby names\n",
    "\n",
    "<div class=\"alert alert-info\" markdown=\"1\">\n",
    "Here are the materials that you should download for this assignment:\n",
    "\n",
    "* [training data and devlopment data for generation](https://www.cc.gatech.edu/classes/AY2020/cs7650_spring/hw3/lm/data.zip).\n",
    "</div>\n",
    "\n",
    "# Recommended Reading\n",
    "\n",
    "You should install PyTorch, know Python, and understand Tensors:\n",
    "\n",
    "* http://pytorch.org/ For installation instructions\n",
    "* [Deep Learning with PyTorch: A 60-minute Blitz](https://github.com/pytorch/tutorials/blob/master/Deep%20Learning%20with%20PyTorch.ipynb) to get started with PyTorch in general\n",
    "* [jcjohnson's PyTorch examples](https://github.com/jcjohnson/pytorch-examples) for an in depth overview\n",
    "* [Introduction to PyTorch for former Torchies](https://github.com/pytorch/tutorials/blob/master/Introduction%20to%20PyTorch%20for%20former%20Torchies.ipynb) if you are former Lua Torch user\n",
    "\n",
    "It would also be useful to know about RNNs and how they work:\n",
    "\n",
    "* [The Unreasonable Effectiveness of Recurrent Neural Networks](http://karpathy.github.io/2015/05/21/rnn-effectiveness/) shows a bunch of real life examples\n",
    "* [Understanding LSTM Networks](http://colah.github.io/posts/2015-08-Understanding-LSTMs/) is about LSTMs specifically but also informative about RNNs in general\n",
    "\n",
    "Also see these related tutorials from the series:\n",
    "\n",
    "* [Classifying Names with a Character-Level RNN](https://github.com/spro/practical-pytorch/blob/master/char-rnn-classification/char-rnn-classification.ipynb) uses an RNN for classification\n",
    "* [Generating Names with a Conditional Character-Level RNN](https://github.com/spro/practical-pytorch/blob/master/conditional-char-rnn/conditional-char-rnn.ipynb) builds on this model to add a category as input\n",
    "\n",
    "## You can also set up Pytorch in Google Colab\n",
    "\n",
    "Pytorch is one of the most popular deep learning frameworks in both industry and academia, and learning its use will be invaluable should you choose a career in deep learning. \n",
    "\n",
    "### Setup\n",
    "#### Using Google Colab (recommended)\n",
    "1. Upload this notebook on [Colab](https://colab.research.google.com/notebooks/welcome.ipynb).\n",
    "2. Set hardware accelerator to ```GPU``` under ```notebook settings``` in the ```Edit``` menu.\n",
    "3. Run the first cell to  set up  the environment.\n",
    "\n",
    "### Note\n",
    "Please look at the FAQ section before you start working.\n"
   ]
  },
  {
   "cell_type": "markdown",
   "metadata": {
    "colab_type": "text",
    "id": "GSK5eXh38Lp_"
   },
   "source": [
    "# Prepare data\n",
    "\n",
    "The file we are using is a plain text file. We turn any potential unicode characters into plain ASCII by using the `unidecode` package (which you can install via `pip` or `conda`)."
   ]
  },
  {
   "cell_type": "code",
   "execution_count": 1,
   "metadata": {
    "colab": {
     "base_uri": "https://localhost:8080/",
     "height": 124
    },
    "colab_type": "code",
    "id": "ZTDp0NlNFNV7",
    "outputId": "0c9c6b47-dfef-475b-e35c-50ff8a599c02"
   },
   "outputs": [
    {
     "name": "stdout",
     "output_type": "stream",
     "text": [
      "Collecting unidecode\n",
      "\u001b[?25l  Downloading https://files.pythonhosted.org/packages/d0/42/d9edfed04228bacea2d824904cae367ee9efd05e6cce7ceaaedd0b0ad964/Unidecode-1.1.1-py2.py3-none-any.whl (238kB)\n",
      "\r",
      "\u001b[K     |█▍                              | 10kB 24.2MB/s eta 0:00:01\r",
      "\u001b[K     |██▊                             | 20kB 6.1MB/s eta 0:00:01\r",
      "\u001b[K     |████▏                           | 30kB 8.6MB/s eta 0:00:01\r",
      "\u001b[K     |█████▌                          | 40kB 5.7MB/s eta 0:00:01\r",
      "\u001b[K     |██████▉                         | 51kB 6.9MB/s eta 0:00:01\r",
      "\u001b[K     |████████▎                       | 61kB 8.1MB/s eta 0:00:01\r",
      "\u001b[K     |█████████▋                      | 71kB 9.2MB/s eta 0:00:01\r",
      "\u001b[K     |███████████                     | 81kB 10.3MB/s eta 0:00:01\r",
      "\u001b[K     |████████████▍                   | 92kB 11.5MB/s eta 0:00:01\r",
      "\u001b[K     |█████████████▊                  | 102kB 9.3MB/s eta 0:00:01\r",
      "\u001b[K     |███████████████▏                | 112kB 9.3MB/s eta 0:00:01\r",
      "\u001b[K     |████████████████▌               | 122kB 9.3MB/s eta 0:00:01\r",
      "\u001b[K     |█████████████████▉              | 133kB 9.3MB/s eta 0:00:01\r",
      "\u001b[K     |███████████████████▎            | 143kB 9.3MB/s eta 0:00:01\r",
      "\u001b[K     |████████████████████▋           | 153kB 9.3MB/s eta 0:00:01\r",
      "\u001b[K     |██████████████████████          | 163kB 9.3MB/s eta 0:00:01\r",
      "\u001b[K     |███████████████████████▍        | 174kB 9.3MB/s eta 0:00:01\r",
      "\u001b[K     |████████████████████████▊       | 184kB 9.3MB/s eta 0:00:01\r",
      "\u001b[K     |██████████████████████████▏     | 194kB 9.3MB/s eta 0:00:01\r",
      "\u001b[K     |███████████████████████████▌    | 204kB 9.3MB/s eta 0:00:01\r",
      "\u001b[K     |████████████████████████████▉   | 215kB 9.3MB/s eta 0:00:01\r",
      "\u001b[K     |██████████████████████████████▎ | 225kB 9.3MB/s eta 0:00:01\r",
      "\u001b[K     |███████████████████████████████▋| 235kB 9.3MB/s eta 0:00:01\r",
      "\u001b[K     |████████████████████████████████| 245kB 9.3MB/s \n",
      "\u001b[?25hInstalling collected packages: unidecode\n",
      "Successfully installed unidecode-1.1.1\n"
     ]
    }
   ],
   "source": [
    "! pip install unidecode"
   ]
  },
  {
   "cell_type": "code",
   "execution_count": 29,
   "metadata": {
    "colab": {
     "base_uri": "https://localhost:8080/",
     "height": 35
    },
    "colab_type": "code",
    "id": "ft8gk4ZC8LqA",
    "outputId": "cd36c7d8-72f1-48d3-cd92-dfcecd3c33bd"
   },
   "outputs": [
    {
     "name": "stdout",
     "output_type": "stream",
     "text": [
      "file_len = 4573338\n"
     ]
    }
   ],
   "source": [
    "import unidecode\n",
    "import string\n",
    "import random\n",
    "import re\n",
    "\n",
    "all_characters = string.printable\n",
    "n_characters = len(all_characters)\n",
    "\n",
    "file = unidecode.unidecode(open('sample_data/shakespeare_input.txt').read())\n",
    "file_len = len(file)\n",
    "print('file_len =', file_len)"
   ]
  },
  {
   "cell_type": "markdown",
   "metadata": {
    "colab_type": "text",
    "id": "kmov3k1W8LqE"
   },
   "source": [
    "To make inputs out of this big string of data, we will be splitting it into chunks."
   ]
  },
  {
   "cell_type": "code",
   "execution_count": 30,
   "metadata": {
    "colab": {
     "base_uri": "https://localhost:8080/",
     "height": 121
    },
    "colab_type": "code",
    "id": "5_oGxNkW8LqF",
    "outputId": "d8650e2d-8577-4247-b14d-220f36c0e14c"
   },
   "outputs": [
    {
     "name": "stdout",
     "output_type": "stream",
     "text": [
      "arted from you\n",
      "He left a promise to return again\n",
      "Within an hour, and pacing through the forest,\n",
      "Chewing the food of sweet and bitter fancy,\n",
      "Lo, what befell! he threw his eye aside,\n",
      "And mark what object\n"
     ]
    }
   ],
   "source": [
    "chunk_len = 200\n",
    "\n",
    "def random_chunk():\n",
    "    start_index = random.randint(0, file_len - chunk_len)\n",
    "    end_index = start_index + chunk_len + 1\n",
    "    return file[start_index:end_index]\n",
    "\n",
    "print(random_chunk())"
   ]
  },
  {
   "cell_type": "markdown",
   "metadata": {
    "colab_type": "text",
    "id": "BOPCAoy-8LqJ"
   },
   "source": [
    "# Build the Model\n",
    "\n",
    "This model will take as input the character for step $t_{-1}$ and is expected to output the next character $t$. There are three layers - one linear layer that encodes the input character into an internal state, one GRU layer (which may itself have multiple layers) that operates on that internal state and a hidden state, and a decoder layer that outputs the probability distribution. You need to finish the forward method. (Refer to [Pytorch GRU Documentation](https://pytorch.org/docs/stable/nn.html#gru))"
   ]
  },
  {
   "cell_type": "code",
   "execution_count": 0,
   "metadata": {
    "colab": {},
    "colab_type": "code",
    "id": "ypD3redv8LqK"
   },
   "outputs": [],
   "source": [
    "import torch\n",
    "import torch.nn as nn\n",
    "\n",
    "device = torch.device(\"cuda\" if torch.cuda.is_available() else \"cpu\")\n",
    "\n",
    "class RNN(nn.Module):\n",
    "    def __init__(self, input_size, hidden_size, output_size, n_layers=1):\n",
    "        super(RNN, self).__init__()\n",
    "        self.input_size = input_size\n",
    "        self.hidden_size = hidden_size\n",
    "        self.output_size = output_size\n",
    "        self.n_layers = n_layers\n",
    "        \n",
    "        self.encoder = nn.Embedding(input_size, hidden_size)\n",
    "        self.gru = nn.GRU(hidden_size, hidden_size, n_layers)\n",
    "        self.decoder = nn.Linear(hidden_size, output_size)\n",
    "    \n",
    "    def forward(self, input, hidden):\n",
    "        #Input input: torch Tensor of shape (1,)\n",
    "        #hidden: torch Tensor of shape (self.n_layers, 1, self.hidden_size)\n",
    "        #Return output: torch Tensor of shape (1, self.output_size) \n",
    "        #and hidden: torch Tensor of shape (self.n_layers, 1, self.hidden_size)\n",
    "        #combined = torch.cat((input,hidden),1)\n",
    "        #print(input)\n",
    "        #print(hidden)\n",
    "        encode = self.encoder(input.view(1,-1))\n",
    "        output, hidden = self.gru(encode.view(1,1,-1),hidden) \n",
    "        output = self.decoder(output.view(1,-1))\n",
    "        return output, hidden       \n",
    "        \n",
    "\n",
    "    def init_hidden(self):\n",
    "        return torch.zeros(self.n_layers, 1, self.hidden_size).to(device)"
   ]
  },
  {
   "cell_type": "markdown",
   "metadata": {
    "colab_type": "text",
    "id": "Lfkoku0c8LqM"
   },
   "source": [
    "# Inputs and Targets"
   ]
  },
  {
   "cell_type": "markdown",
   "metadata": {
    "colab_type": "text",
    "id": "2A1Ri3Dc8LqO"
   },
   "source": [
    "Each chunk will be turned into a tensor, specifically a `LongTensor` (used for integer values), by looping through the characters of the string and looking up the index of each character in `all_characters`."
   ]
  },
  {
   "cell_type": "code",
   "execution_count": 38,
   "metadata": {
    "colab": {
     "base_uri": "https://localhost:8080/",
     "height": 35
    },
    "colab_type": "code",
    "id": "R_c5cck98LqO",
    "outputId": "9909270c-f0b1-4d6e-8810-4b88cdcf4fa3"
   },
   "outputs": [
    {
     "name": "stdout",
     "output_type": "stream",
     "text": [
      "tensor([10, 11, 12, 39, 40, 41], device='cuda:0')\n"
     ]
    }
   ],
   "source": [
    "# Turn string into list of longs\n",
    "def char_tensor(string):\n",
    "    tensor = torch.zeros(len(string)).long().to(device)\n",
    "    for c in range(len(string)):\n",
    "        tensor[c] = all_characters.index(string[c])\n",
    "    return tensor\n",
    "\n",
    "print(char_tensor('abcDEF'))"
   ]
  },
  {
   "cell_type": "markdown",
   "metadata": {
    "colab_type": "text",
    "id": "qXW9fMSy8LqR"
   },
   "source": [
    "Finally we can assemble a pair of input and target tensors for training, from a random chunk. The input will be all characters *up to the last*, and the target will be all characters *from the first*. So if our chunk is \"abc\" the input will correspond to \"ab\" while the target is \"bc\"."
   ]
  },
  {
   "cell_type": "code",
   "execution_count": 0,
   "metadata": {
    "colab": {},
    "colab_type": "code",
    "id": "isy67SXl8LqS"
   },
   "outputs": [],
   "source": [
    "def random_training_set():    \n",
    "    chunk = random_chunk()\n",
    "    inp = char_tensor(chunk[:-1])\n",
    "    target = char_tensor(chunk[1:])\n",
    "    return inp, target"
   ]
  },
  {
   "cell_type": "markdown",
   "metadata": {
    "colab_type": "text",
    "id": "7ziOmdO_8LqV"
   },
   "source": [
    "# Evaluating\n",
    "\n",
    "To evaluate the network we will feed one character at a time, use the outputs of the network as a probability distribution for the next character, and repeat. To start generation we pass a priming string to start building up the hidden state, from which we then generate one character at a time."
   ]
  },
  {
   "cell_type": "code",
   "execution_count": 0,
   "metadata": {
    "colab": {},
    "colab_type": "code",
    "id": "PJ9pnXAY8LqW"
   },
   "outputs": [],
   "source": [
    "def evaluate(prime_str='A', predict_len=100, temperature=0.8):\n",
    "    hidden = decoder.init_hidden()\n",
    "    prime_input = char_tensor(prime_str)\n",
    "    predicted = prime_str\n",
    "\n",
    "    # Use priming string to \"build up\" hidden state\n",
    "    for p in range(len(prime_str) - 1):\n",
    "        _, hidden = decoder(prime_input[p], hidden)\n",
    "    inp = prime_input[-1]\n",
    "    \n",
    "    for p in range(predict_len):\n",
    "        output, hidden = decoder(inp, hidden)\n",
    "        \n",
    "        # Sample from the network as a multinomial distribution\n",
    "        output_dist = output.data.view(-1).div(temperature).exp()\n",
    "        top_i = torch.multinomial(output_dist, 1)[0]\n",
    "        \n",
    "        # Add predicted character to string and use as next input\n",
    "        predicted_char = all_characters[top_i]\n",
    "        predicted += predicted_char\n",
    "        inp = char_tensor(predicted_char)\n",
    "\n",
    "    return predicted"
   ]
  },
  {
   "cell_type": "markdown",
   "metadata": {
    "colab_type": "text",
    "id": "TvezPLSJ8LqY"
   },
   "source": [
    "# Training"
   ]
  },
  {
   "cell_type": "markdown",
   "metadata": {
    "colab_type": "text",
    "id": "Njk2osfi8LqZ"
   },
   "source": [
    "A helper to print the amount of time passed:"
   ]
  },
  {
   "cell_type": "code",
   "execution_count": 0,
   "metadata": {
    "colab": {},
    "colab_type": "code",
    "id": "ZBzpowBw8LqZ"
   },
   "outputs": [],
   "source": [
    "import time, math\n",
    "\n",
    "def time_since(since):\n",
    "    s = time.time() - since\n",
    "    m = math.floor(s / 60)\n",
    "    s -= m * 60\n",
    "    return '%dm %ds' % (m, s)"
   ]
  },
  {
   "cell_type": "markdown",
   "metadata": {
    "colab_type": "text",
    "id": "h3WwT7hc8Lqc"
   },
   "source": [
    "The main training function"
   ]
  },
  {
   "cell_type": "code",
   "execution_count": 0,
   "metadata": {
    "colab": {},
    "colab_type": "code",
    "id": "ZiwUR3qW8Lqd"
   },
   "outputs": [],
   "source": [
    "def train(inp, target):\n",
    "    hidden = decoder.init_hidden()\n",
    "    decoder.zero_grad()\n",
    "    loss = 0\n",
    "\n",
    "    for c in range(chunk_len):\n",
    "        output, hidden = decoder(inp[c], hidden)\n",
    "        loss += criterion(output, target.unsqueeze(1)[c])\n",
    "\n",
    "    loss.backward()\n",
    "    decoder_optimizer.step()\n",
    "\n",
    "    return loss.item() / chunk_len"
   ]
  },
  {
   "cell_type": "markdown",
   "metadata": {
    "colab_type": "text",
    "id": "3HZ3_LFH8Lqf"
   },
   "source": [
    "Then we define the training parameters, instantiate the model, and start training:"
   ]
  },
  {
   "cell_type": "code",
   "execution_count": 68,
   "metadata": {
    "colab": {
     "base_uri": "https://localhost:8080/",
     "height": 1000
    },
    "colab_type": "code",
    "id": "2tcGlL9M8Lqg",
    "outputId": "26fa0a67-860e-4ec2-f7f6-3a4d310aef26",
    "scrolled": false
   },
   "outputs": [
    {
     "name": "stdout",
     "output_type": "stream",
     "text": [
      "[0m 33s (100 5%) 3.5504]\n",
      "Wh asah Eet dsC   mb rw yu  dwl s l; w\n",
      " is aoo adls n hhinT A p ln od atieAcis, thah rse Hh duustox, o \n",
      "\n",
      "[1m 6s (200 10%) 3.1104]\n",
      "Whtasht dot stgee ad dfonivil ooge\n",
      "\n",
      "sse tard sbd:ro mutk ce ebhluwus te ban ehuy hou hawunn ot bfhut t \n",
      "\n",
      "[1m 39s (300 15%) 2.5172]\n",
      "Whis set con ca ad dudive anse hesiepset hor stet  ote yent ceteut wik ant me tesh meln to.\n",
      "I!\n",
      "Mvad si \n",
      "\n",
      "[2m 13s (400 20%) 2.5111]\n",
      "Whve woemint, sine.\n",
      "\n",
      "AREO:\n",
      "Coriid wuuned wons\n",
      "wiw wavat he sattilst mhit she bu nhy to lauwk.\n",
      "\n",
      "SO:\n",
      "I t \n",
      "\n",
      "[2m 46s (500 25%) 2.4379]\n",
      "Whove qondseg in mord.\n",
      "\n",
      "BALEYNFLKLN:\n",
      "Fiub wardice. Thikcee moghe nrraiwe coluny fo alge be the athe, l \n",
      "\n",
      "[3m 20s (600 30%) 2.6415]\n",
      "Whis the math the am fraee dorge I my ale lare igth, hercarge hir fire\n",
      "\n",
      "Aus:\n",
      "Biny thase thaurs'le the  \n",
      "\n",
      "[3m 54s (700 35%) 2.2424]\n",
      "Where.\n",
      "\n",
      "ISAURO:\n",
      "So the noth thald the us, doke thit ejrer a.\n",
      "\n",
      "SEVACES:\n",
      "With ance thinll bet nas thse t \n",
      "\n",
      "[4m 28s (800 40%) 2.0867]\n",
      "Whtous hour haves shimt youve me fome thouf to louw to in Momees, whow I and be?\n",
      "\n",
      "SARCU:\n",
      "Thins\n",
      "Yed poa \n",
      "\n",
      "[5m 2s (900 45%) 2.2364]\n",
      "Whese sist me the be hord: younvisenve yind less sir to me in he, treen: of and bow esoad witon lise d \n",
      "\n",
      "[5m 35s (1000 50%) 2.1986]\n",
      "Whind, the kand be he the thestar; a sinn on me a srepet of the tust the the, hange the corfe thast fo \n",
      "\n",
      "[6m 9s (1100 55%) 2.2121]\n",
      "Which but midest thire woul go shith thous, it lord.\n",
      "Irind the a and cow thire ice dothith me,\n",
      "An so a \n",
      "\n",
      "[6m 43s (1200 60%) 2.1603]\n",
      "Whey the bish frick feard inder sauntaroncess,\n",
      "The wut the meete's as for me be snaughs ond he ventas  \n",
      "\n",
      "[7m 16s (1300 65%) 2.2375]\n",
      "Whis lost her by hath: gow a hiir not for the\n",
      "cay she as to stels a tall fill poring,\n",
      "As whesing, leti \n",
      "\n",
      "[7m 51s (1400 70%) 2.0553]\n",
      "Wher his wolds wous mer yooavert of whene, the long ce of mundes and she on in lester, che cancoal?\n",
      "Do \n",
      "\n",
      "[8m 25s (1500 75%) 2.1846]\n",
      "What my his her\n",
      "is brisloo-ane, be us'll with shims\n",
      "Are it thins, in my shall tlight\n",
      "this dit cowd it  \n",
      "\n",
      "[8m 59s (1600 80%) 2.0940]\n",
      "Wherer.\n",
      "\n",
      "CAMIMO:\n",
      "Merton hath ought wusees,\n",
      "Durthinln.\n",
      "\n",
      "MOSSOSELELTOLOR:\n",
      "Thims, whank bithy hover this\n",
      " \n",
      "\n",
      "[9m 34s (1700 85%) 2.0251]\n",
      "Wheme bromend; Cath it, morpeem, and math, Thell a brick\n",
      "ogict he hus 'or noth wele.\n",
      "Is his wut annd a \n",
      "\n",
      "[10m 8s (1800 90%) 1.8934]\n",
      "Whee low, stirved and deaktide deeliece srom bude\n",
      "Anginge, tirt:\n",
      "Opotks be where of she puade befoll s \n",
      "\n",
      "[10m 42s (1900 95%) 2.1402]\n",
      "Whe to kind would to fomey ofbeir dorle toy him:\n",
      "Inners jour yown hage for me makes. My\n",
      "In you.\n",
      "Shou g \n",
      "\n",
      "[11m 16s (2000 100%) 2.1894]\n",
      "Where font, daut\n",
      "The ented think the dealing, that harge the daichou. Hords is hand thuke lowd the pre \n",
      "\n"
     ]
    }
   ],
   "source": [
    "n_epochs = 2000\n",
    "print_every = 100\n",
    "plot_every = 10\n",
    "hidden_size = 100\n",
    "n_layers = 4\n",
    "lr = 0.005\n",
    "\n",
    "decoder = RNN(n_characters, hidden_size, n_characters, n_layers).to(device)\n",
    "decoder_optimizer = torch.optim.Adam(decoder.parameters(), lr=lr)\n",
    "criterion = nn.CrossEntropyLoss()\n",
    "\n",
    "start = time.time()\n",
    "all_losses = []\n",
    "loss_avg = 0\n",
    "\n",
    "for epoch in range(1, n_epochs + 1):\n",
    "    #print(*random_training_set())\n",
    "    loss = train(*random_training_set())       \n",
    "    loss_avg += loss\n",
    "\n",
    "    if epoch % print_every == 0:\n",
    "        print('[%s (%d %d%%) %.4f]' % (time_since(start), epoch, epoch / n_epochs * 100, loss))\n",
    "        print(evaluate('Wh', 100), '\\n')\n",
    "\n",
    "    if epoch % plot_every == 0:\n",
    "        all_losses.append(loss_avg / plot_every)\n",
    "        loss_avg = 0"
   ]
  },
  {
   "cell_type": "markdown",
   "metadata": {
    "colab_type": "text",
    "id": "KCTdrnL28Lqi"
   },
   "source": [
    "# Plotting the Training Losses\n",
    "\n",
    "Plotting the historical loss from all_losses shows the network learning:"
   ]
  },
  {
   "cell_type": "code",
   "execution_count": 69,
   "metadata": {
    "colab": {
     "base_uri": "https://localhost:8080/",
     "height": 283
    },
    "colab_type": "code",
    "id": "146YA8VW8Lqj",
    "outputId": "80785bfa-8ec3-434f-e8e5-3b0fdf2ee117"
   },
   "outputs": [
    {
     "data": {
      "text/plain": [
       "[<matplotlib.lines.Line2D at 0x7f492acd4d68>]"
      ]
     },
     "execution_count": 69,
     "metadata": {
      "tags": []
     },
     "output_type": "execute_result"
    },
    {
     "data": {
      "image/png": "[encoded data removed]",
      "text/plain": [
       "<Figure size 432x288 with 1 Axes>"
      ]
     },
     "metadata": {
      "tags": []
     },
     "output_type": "display_data"
    }
   ],
   "source": [
    "import matplotlib.pyplot as plt\n",
    "import matplotlib.ticker as ticker\n",
    "%matplotlib inline\n",
    "plt.figure()\n",
    "plt.plot(all_losses)"
   ]
  },
  {
   "cell_type": "markdown",
   "metadata": {
    "colab_type": "text",
    "id": "SWNyCgNN8Lqn"
   },
   "source": [
    "# Evaluating at different \"temperatures\"\n",
    "\n",
    "In the `evaluate` function above, every time a prediction is made the outputs are divided by the \"temperature\" argument passed. Using a higher number makes all actions more equally likely, and thus gives us \"more random\" outputs. Using a lower value (less than 1) makes high probabilities contribute more. As we turn the temperature towards zero we are choosing only the most likely outputs.\n",
    "\n",
    "We can see the effects of this by adjusting the `temperature` argument."
   ]
  },
  {
   "cell_type": "code",
   "execution_count": 70,
   "metadata": {
    "colab": {
     "base_uri": "https://localhost:8080/",
     "height": 72
    },
    "colab_type": "code",
    "id": "57fOEIr_8Lqo",
    "outputId": "2f0fdd3b-8adc-4489-a3c8-d0f38430ab07"
   },
   "outputs": [
    {
     "name": "stdout",
     "output_type": "stream",
     "text": [
      "The put of enter withing the hir: and awlead with to like with the if theaw withand a for thut thear which in of the the catter riclatind,\n",
      "What his the more, and he be this sute to the prittizean: Far M\n"
     ]
    }
   ],
   "source": [
    "print(evaluate('Th', 200, temperature=0.8))"
   ]
  },
  {
   "cell_type": "markdown",
   "metadata": {
    "colab_type": "text",
    "id": "y0VL4tFR8Lqq"
   },
   "source": [
    "Lower temperatures are less varied, choosing only the more probable outputs:"
   ]
  },
  {
   "cell_type": "code",
   "execution_count": 71,
   "metadata": {
    "colab": {
     "base_uri": "https://localhost:8080/",
     "height": 55
    },
    "colab_type": "code",
    "id": "J7pX6-dj8Lqr",
    "outputId": "488c0b6c-5752-4704-e7b3-f2c2ae7956a3"
   },
   "outputs": [
    {
     "name": "stdout",
     "output_type": "stream",
     "text": [
      "This the propes the the prite the compon the lord have the like the have the how the propes his pain the lord the proped the propell the lord the for her the propes have the his deal the light the her t\n"
     ]
    }
   ],
   "source": [
    "print(evaluate('Th', 200, temperature=0.2))"
   ]
  },
  {
   "cell_type": "markdown",
   "metadata": {
    "colab_type": "text",
    "id": "qiRQUOtE8Lqu"
   },
   "source": [
    "Higher temperatures more varied, choosing less probable outputs:"
   ]
  },
  {
   "cell_type": "code",
   "execution_count": 72,
   "metadata": {
    "colab": {
     "base_uri": "https://localhost:8080/",
     "height": 104
    },
    "colab_type": "code",
    "id": "DrwKM5rb8Lqu",
    "outputId": "9f64916b-8ebe-4cbe-97ea-b02e28ab809a"
   },
   "outputs": [
    {
     "name": "stdout",
     "output_type": "stream",
     "text": [
      "Thizibppuicodlalt hiss ontiom,\n",
      "Enalw\n",
      ", will; caver! ghisfarpj his hlil alub, 'pomorm, herd?, Gepvest\n",
      "Sits, O owf, sisters: Auis, Crevefry a hlest alafrooce Rew:, apigail, Cou, Gedtegd\n",
      "Ank have rudonsail\n"
     ]
    }
   ],
   "source": [
    "print(evaluate('Th', 200, temperature=1.4))"
   ]
  },
  {
   "cell_type": "code",
   "execution_count": 73,
   "metadata": {
    "colab": {
     "base_uri": "https://localhost:8080/",
     "height": 35
    },
    "colab_type": "code",
    "id": "5B7t-vkd8Lqw",
    "outputId": "e1f8431b-da32-41ff-9d3a-133daffddf51"
   },
   "outputs": [
    {
     "name": "stdout",
     "output_type": "stream",
     "text": [
      "Perplexity: 2.125791072845459\n"
     ]
    }
   ],
   "source": [
    "import torch.nn.functional as F\n",
    "def perp(testfile):\n",
    "    inp = char_tensor(testfile[:-1])\n",
    "    target = char_tensor(testfile[1:])\n",
    "    test_len=len(testfile)\n",
    "    hidden = decoder.init_hidden()\n",
    "    decoder.zero_grad()\n",
    "    perplexity=torch.tensor(0.0)\n",
    "\n",
    "    for c in range(test_len-1):\n",
    "        output, hidden = decoder(inp[c], hidden)\n",
    "        perplexity -=F.log_softmax(output,dim=1)[0][target[c]]\n",
    "\n",
    "    return (perplexity/test_len).item()\n",
    "\n",
    "testfile = unidecode.unidecode(open('sample_data/shakespeare_sonnets.txt').read())\n",
    "print('Perplexity:',perp(testfile))"
   ]
  },
  {
   "cell_type": "markdown",
   "metadata": {
    "colab_type": "text",
    "collapsed": true,
    "id": "BIuPSuqt8Lqz"
   },
   "source": [
    "## FAQs\n",
    "\n",
    "#### I'm unfamiliar with PyTorch. How do I get started?\n",
    "If you are new to the paradigm of computational graphs and functional programming, please have a look at this [tutorial](https://hackernoon.com/linear-regression-in-x-minutes-using-pytorch-8eec49f6a0e2) before getting started.\n",
    "\n",
    "#### How do I speed up training?\n",
    "Send the model and the input, output tensors to the GPU using ```.to(device)```. Refer the [PyTorch docs](https://pytorch.org/docs/stable/notes/cuda.html) for further information.\n"
   ]
  },
  {
   "cell_type": "code",
   "execution_count": 0,
   "metadata": {
    "colab": {},
    "colab_type": "code",
    "id": "cSx4AJNh8Lqz"
   },
   "outputs": [],
   "source": []
  }
 ],
 "metadata": {
  "accelerator": "GPU",
  "anaconda-cloud": {},
  "colab": {
   "collapsed_sections": [],
   "name": "rnn.ipynb",
   "provenance": [],
   "toc_visible": true
  },
  "kernelspec": {
   "display_name": "Python 3",
   "language": "python",
   "name": "python3"
  },
  "language_info": {
   "codemirror_mode": {
    "name": "ipython",
    "version": 3
   },
   "file_extension": ".py",
   "mimetype": "text/x-python",
   "name": "python",
   "nbconvert_exporter": "python",
   "pygments_lexer": "ipython3",
   "version": "3.7.6"
  }
 },
 "nbformat": 4,
 "nbformat_minor": 1
}
